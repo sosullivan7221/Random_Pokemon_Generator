{
 "cells": [
  {
   "cell_type": "markdown",
   "metadata": {},
   "source": [
    "## Jupyter Notebook being used for easier readbility, code will be shifted into .py file to push onto website"
   ]
  },
  {
   "cell_type": "code",
   "execution_count": 1,
   "metadata": {},
   "outputs": [],
   "source": [
    "## Packages\n",
    "import pandas as pd\n",
    "import numpy as np\n"
   ]
  },
  {
   "cell_type": "code",
   "execution_count": 2,
   "metadata": {},
   "outputs": [],
   "source": [
    "## Importing Pokedex Data\n",
    "poke_data = pd.read_csv('Pokedex_Ver_SV2.csv')"
   ]
  },
  {
   "cell_type": "code",
   "execution_count": 3,
   "metadata": {},
   "outputs": [],
   "source": [
    "## Pokemon Generator Function\n",
    "\n",
    "def Generator():\n",
    "    \n",
    "    global Random_Pokemon\n",
    "    Random_Pokemon = poke_data['Name'].sample(n=1)\n",
    "    \n",
    "    # Return the random Pokemon\n",
    "    return Random_Pokemon\n",
    "\n",
    "def HP():\n",
    "    # Display the HP of the Pokemon selected from the generator function\n",
    "     global HP_Stat\n",
    "     HP_Stat = poke_data['HP'].loc[poke_data['Name'] == Random_Pokemon.values[0]]\n",
    "     \n",
    "     # Return the HP sat\n",
    "     return HP_Stat\n",
    "\n",
    "def Attack():\n",
    "    # Display the attack of the Pokemon selected from the generator function\n",
    "    global Attack_Stat\n",
    "    Attack_Stat = poke_data['Attack'].loc[poke_data['Name'] == Random_Pokemon.values[0]]\n",
    "     \n",
    "    # Return the attack stat\n",
    "    return Attack_Stat\n",
    "\n",
    "def Defense():\n",
    "    # Display the defense of the Pokemon selected from the generator function\n",
    "    global Defense_Stat\n",
    "    Defense_Stat = poke_data['Defense'].loc[poke_data['Name'] == Random_Pokemon.values[0]]\n",
    "    \n",
    "    # Return the defense stat\n",
    "    return Defense_Stat\n",
    "\n",
    "def SP_Attack():\n",
    "    # Display the special attack of the Pokemon selected from the generator function\n",
    "    global SP_Attack_Stat\n",
    "    SP_Attack_Stat = poke_data['SP_Attack'].loc[poke_data['Name'] == Random_Pokemon.values[0]]\n",
    "    \n",
    "     # Return the special attack stat\n",
    "    return SP_Attack_Stat\n",
    "\n",
    "def SP_Defense():\n",
    "    # Display the special defense of the Pokemon selected from the generator function\n",
    "    global SP_Defense_Stat\n",
    "    SP_Defense_Stat = poke_data['SP_Defense'].loc[poke_data['Name'] == Random_Pokemon.values[0]]\n",
    "    \n",
    "    # Return the special defense stat\n",
    "    return SP_Defense_Stat\n",
    "\n",
    "def Speed():\n",
    "    # Display the speed of the Pokemon selected from the generator function\n",
    "    global Speed_Stat\n",
    "    Speed_Stat = poke_data['Speed'].loc[poke_data['Name'] == Random_Pokemon.values[0]]\n",
    "    \n",
    "    # Return the speed stat\n",
    "    return Speed_Stat\n",
    "\n",
    "def Total():\n",
    "    # Display the sum of the chosen stats from the stat function\n",
    "    global Total_Stat\n",
    "    Total_Stat = [HP_Stat.values[0] + Attack_Stat.values[0] + Defense_Stat.values[0] + SP_Attack_Stat.values[0] + SP_Defense_Stat.values[0] + Speed_Stat.values[0]]\n",
    "    \n",
    "     # Return the total stat\n",
    "    return Total_Stat"
   ]
  },
  {
   "cell_type": "code",
   "execution_count": 14,
   "metadata": {},
   "outputs": [
    {
     "data": {
      "text/plain": [
       "376    Aggron\n",
       "Name: Name, dtype: object"
      ]
     },
     "execution_count": 14,
     "metadata": {},
     "output_type": "execute_result"
    }
   ],
   "source": [
    "Generator() # Generates random Pokemon"
   ]
  },
  {
   "cell_type": "code",
   "execution_count": 5,
   "metadata": {},
   "outputs": [
    {
     "data": {
      "text/plain": [
       "1064    92\n",
       "Name: HP, dtype: int64"
      ]
     },
     "execution_count": 5,
     "metadata": {},
     "output_type": "execute_result"
    }
   ],
   "source": [
    "HP() # Generates the corresponding HP Stat"
   ]
  },
  {
   "cell_type": "code",
   "execution_count": 7,
   "metadata": {},
   "outputs": [
    {
     "data": {
      "text/plain": [
       "566    85\n",
       "Name: Attack, dtype: int64"
      ]
     },
     "execution_count": 7,
     "metadata": {},
     "output_type": "execute_result"
    }
   ],
   "source": [
    "Attack() # Generates the corresponding attack stat"
   ]
  },
  {
   "cell_type": "code",
   "execution_count": 9,
   "metadata": {},
   "outputs": [
    {
     "data": {
      "text/plain": [
       "790    40\n",
       "Name: Defense, dtype: int64"
      ]
     },
     "execution_count": 9,
     "metadata": {},
     "output_type": "execute_result"
    }
   ],
   "source": [
    "Defense() # Generates the corresponding defense stat"
   ]
  },
  {
   "cell_type": "code",
   "execution_count": 11,
   "metadata": {},
   "outputs": [
    {
     "data": {
      "text/plain": [
       "788    56\n",
       "Name: SP_Attack, dtype: int64"
      ]
     },
     "execution_count": 11,
     "metadata": {},
     "output_type": "execute_result"
    }
   ],
   "source": [
    "SP_Attack() # Generates the corresponding special attack stat"
   ]
  },
  {
   "cell_type": "code",
   "execution_count": 13,
   "metadata": {},
   "outputs": [
    {
     "data": {
      "text/plain": [
       "70    65\n",
       "Name: SP_Defense, dtype: int64"
      ]
     },
     "execution_count": 13,
     "metadata": {},
     "output_type": "execute_result"
    }
   ],
   "source": [
    "SP_Defense() # Generates the corresponding special defense stat"
   ]
  },
  {
   "cell_type": "code",
   "execution_count": 15,
   "metadata": {},
   "outputs": [
    {
     "data": {
      "text/plain": [
       "376    50\n",
       "Name: Speed, dtype: int64"
      ]
     },
     "execution_count": 15,
     "metadata": {},
     "output_type": "execute_result"
    }
   ],
   "source": [
    "Speed() # Generates the corresponding speed stat"
   ]
  },
  {
   "cell_type": "code",
   "execution_count": 16,
   "metadata": {},
   "outputs": [
    {
     "data": {
      "text/plain": [
       "[388]"
      ]
     },
     "execution_count": 16,
     "metadata": {},
     "output_type": "execute_result"
    }
   ],
   "source": [
    "Total() #Sums selected stats"
   ]
  }
 ],
 "metadata": {
  "kernelspec": {
   "display_name": "myenv",
   "language": "python",
   "name": "python3"
  },
  "language_info": {
   "codemirror_mode": {
    "name": "ipython",
    "version": 3
   },
   "file_extension": ".py",
   "mimetype": "text/x-python",
   "name": "python",
   "nbconvert_exporter": "python",
   "pygments_lexer": "ipython3",
   "version": "3.10.12"
  },
  "orig_nbformat": 4
 },
 "nbformat": 4,
 "nbformat_minor": 2
}
