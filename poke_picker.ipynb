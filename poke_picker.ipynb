{
 "cells": [
  {
   "cell_type": "markdown",
   "metadata": {},
   "source": [
    "## Jupyter Notebook being used for easier readbility, code will be shifted into .py file to push onto website"
   ]
  },
  {
   "cell_type": "code",
   "execution_count": 1,
   "metadata": {},
   "outputs": [],
   "source": [
    "## Packages\n",
    "import pandas as pd\n",
    "import numpy as np\n"
   ]
  },
  {
   "cell_type": "code",
   "execution_count": 2,
   "metadata": {},
   "outputs": [],
   "source": [
    "## Importing Pokedex Data\n",
    "poke_data = pd.read_csv('Pokedex_Ver_SV2.csv')"
   ]
  },
  {
   "cell_type": "code",
   "execution_count": 41,
   "metadata": {},
   "outputs": [],
   "source": [
    "## Pokemon Generator Function\n",
    "\n",
    "Random_Pokemon = poke_data['Name'].sample(n=1)\n",
    "\n",
    "def Generator():\n",
    "    \n",
    "    # Return the random Pokemon\n",
    "    return Random_Pokemon\n",
    "\n",
    "def HP():\n",
    "    # Display the HP of the Pokemon selected from the generator function\n",
    "     HP_Stat = poke_data['HP'].loc[poke_data['Name'] == Generator().values[0]]\n",
    "     \n",
    "     # Return the HP sat\n",
    "     return HP_Stat\n",
    "\n",
    "def Attack():\n",
    "    # Display the attack of the Pokemon selected from the generator function\n",
    "    Attack_Stat = poke_data['Attack'].loc[poke_data['Name'] == Generator().values[0]]\n",
    "     \n",
    "    # Return the attack stat\n",
    "    return Attack_Stat\n",
    "\n",
    "def Defense():\n",
    "    # Display the defense of the Pokemon selected from the generator function\n",
    "    Defense_Stat = poke_data['Defense'].loc[poke_data['Name'] == Generator().values[0]]\n",
    "    \n",
    "    # Return the defense stat\n",
    "    return Defense_Stat\n",
    "\n",
    "def SP_Attack():\n",
    "    # Display the special attack of the Pokemon selected from the generator function\n",
    "    SP_Attack_Stat = poke_data['SP_Attack'].loc[poke_data['Name'] == Generator().values[0]]\n",
    "    \n",
    "     # Return the special attack stat\n",
    "    return SP_Attack_Stat\n",
    "\n",
    "def SP_Defense():\n",
    "    # Display the special defense of the Pokemon selected from the generator function\n",
    "    SP_Defense_Stat = poke_data['SP_Defense'].loc[poke_data['Name'] == Generator().values[0]]\n",
    "    \n",
    "    # Return the special defense stat\n",
    "    return SP_Defense_Stat\n",
    "\n",
    "def Speed():\n",
    "    # Display the speed of the Pokemon selected from the generator function\n",
    "    Speed_Stat = poke_data['Speed'].loc[poke_data['Name'] == Generator().values[0]]\n",
    "    \n",
    "    # Return the speed stat\n",
    "    return Speed_Stat\n",
    "\n",
    "def Total():\n",
    "    # Display the sum of the chosen stats from the stat function\n",
    "    Total_Stat = HP().values[0] + Attack().values[0] + Defense().values[0] + SP_Attack().values[0] + SP_Defense().values[0] + Speed().values[0]\n",
    "    \n",
    "     # Return the total stat\n",
    "    return Total_Stat"
   ]
  },
  {
   "cell_type": "code",
   "execution_count": 44,
   "metadata": {},
   "outputs": [
    {
     "data": {
      "text/plain": [
       "851    Trevenant\n",
       "Name: Name, dtype: object"
      ]
     },
     "execution_count": 44,
     "metadata": {},
     "output_type": "execute_result"
    }
   ],
   "source": [
    "Generator() # Generates random Pokemon"
   ]
  },
  {
   "cell_type": "code",
   "execution_count": 42,
   "metadata": {},
   "outputs": [
    {
     "data": {
      "text/plain": [
       "851    85\n",
       "Name: HP, dtype: int64"
      ]
     },
     "execution_count": 42,
     "metadata": {},
     "output_type": "execute_result"
    }
   ],
   "source": [
    "HP() # Generates the corresponding HP Stat"
   ]
  },
  {
   "cell_type": "code",
   "execution_count": 43,
   "metadata": {},
   "outputs": [
    {
     "data": {
      "text/plain": [
       "851    110\n",
       "Name: Attack, dtype: int64"
      ]
     },
     "execution_count": 43,
     "metadata": {},
     "output_type": "execute_result"
    }
   ],
   "source": [
    "Attack() # Generates the corresponding attack stat"
   ]
  },
  {
   "cell_type": "code",
   "execution_count": 18,
   "metadata": {},
   "outputs": [
    {
     "data": {
      "text/plain": [
       "1071    105\n",
       "Name: Defense, dtype: int64"
      ]
     },
     "execution_count": 18,
     "metadata": {},
     "output_type": "execute_result"
    }
   ],
   "source": [
    "Defense() # Generates the corresponding defense stat"
   ]
  },
  {
   "cell_type": "code",
   "execution_count": 29,
   "metadata": {},
   "outputs": [
    {
     "data": {
      "text/plain": [
       "1081    45\n",
       "Name: SP_Attack, dtype: int64"
      ]
     },
     "execution_count": 29,
     "metadata": {},
     "output_type": "execute_result"
    }
   ],
   "source": [
    "SP_Attack() # Generates the corresponding special attack stat"
   ]
  },
  {
   "cell_type": "code",
   "execution_count": 21,
   "metadata": {},
   "outputs": [
    {
     "data": {
      "text/plain": [
       "1071    95\n",
       "Name: SP_Defense, dtype: int64"
      ]
     },
     "execution_count": 21,
     "metadata": {},
     "output_type": "execute_result"
    }
   ],
   "source": [
    "SP_Defense() # Generates the corresponding special defense stat"
   ]
  },
  {
   "cell_type": "code",
   "execution_count": 22,
   "metadata": {},
   "outputs": [
    {
     "data": {
      "text/plain": [
       "1071    105\n",
       "Name: Speed, dtype: int64"
      ]
     },
     "execution_count": 22,
     "metadata": {},
     "output_type": "execute_result"
    }
   ],
   "source": [
    "Speed() # Generates the corresponding speed stat"
   ]
  },
  {
   "cell_type": "code",
   "execution_count": 30,
   "metadata": {},
   "outputs": [
    {
     "data": {
      "text/plain": [
       "550"
      ]
     },
     "execution_count": 30,
     "metadata": {},
     "output_type": "execute_result"
    }
   ],
   "source": [
    "Total() #Sums selected stats"
   ]
  }
 ],
 "metadata": {
  "kernelspec": {
   "display_name": "myenv",
   "language": "python",
   "name": "python3"
  },
  "language_info": {
   "codemirror_mode": {
    "name": "ipython",
    "version": 3
   },
   "file_extension": ".py",
   "mimetype": "text/x-python",
   "name": "python",
   "nbconvert_exporter": "python",
   "pygments_lexer": "ipython3",
   "version": "3.10.12"
  },
  "orig_nbformat": 4
 },
 "nbformat": 4,
 "nbformat_minor": 2
}
