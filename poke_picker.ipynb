{
 "cells": [
  {
   "cell_type": "markdown",
   "metadata": {},
   "source": [
    "## Jupyter Notebook being used for easier readbility, code will be shifted into .py file to push onto website"
   ]
  },
  {
   "cell_type": "code",
   "execution_count": 2,
   "metadata": {},
   "outputs": [],
   "source": [
    "## Packages\n",
    "import pandas as pd\n",
    "import numpy as np\n"
   ]
  },
  {
   "cell_type": "code",
   "execution_count": 3,
   "metadata": {},
   "outputs": [],
   "source": [
    "## Importing Pokedex Data\n",
    "poke_data = pd.read_csv('Pokedex_Ver_SV2.csv')"
   ]
  },
  {
   "cell_type": "code",
   "execution_count": 29,
   "metadata": {},
   "outputs": [],
   "source": [
    "## Pokemon Generator Function\n",
    "\n",
    "def Generator():\n",
    "    \n",
    "    global Random_Pokemon\n",
    "    Random_Pokemon = poke_data['Name'].sample(n=1)\n",
    "    \n",
    "    # Return the random Pokemon\n",
    "    return Random_Pokemon\n",
    "\n",
    "def HP():\n",
    "    # Display the HP of the Pokemon selected from the generator function\n",
    "     global HP_Stat\n",
    "     HP_Stat = poke_data['HP'].loc[poke_data['Name'] == Random_Pokemon.values[0]]\n",
    "     \n",
    "     # Return the HP sat\n",
    "     return HP_Stat\n",
    "\n",
    "def Attack():\n",
    "    # Display the attack of the Pokemon selected from the generator function\n",
    "    global Attack_Stat\n",
    "    Attack_Stat = poke_data['Attack'].loc[poke_data['Name'] == Random_Pokemon.values[0]]\n",
    "     \n",
    "    # Return the attack stat\n",
    "    return Attack_Stat\n",
    "\n",
    "def Defense():\n",
    "    # Display the defense of the Pokemon selected from the generator function\n",
    "    global Defense_Stat\n",
    "    Defense_Stat = poke_data['Defense'].loc[poke_data['Name'] == Random_Pokemon.values[0]]\n",
    "    \n",
    "    # Return the defense stat\n",
    "    return Defense_Stat\n",
    "\n",
    "def SP_Attack():\n",
    "    # Display the special attack of the Pokemon selected from the generator function\n",
    "    global SP_Attack_Stat\n",
    "    SP_Attack_Stat = poke_data['SP_Attack'].loc[poke_data['Name'] == Random_Pokemon.values[0]]\n",
    "    \n",
    "     # Return the special attack stat\n",
    "    return SP_Attack_Stat\n",
    "\n",
    "def SP_Defense():\n",
    "    # Display the special defense of the Pokemon selected from the generator function\n",
    "    global SP_Defense_Stat\n",
    "    SP_Defense_Stat = poke_data['SP_Defense'].loc[poke_data['Name'] == Random_Pokemon.values[0]]\n",
    "    \n",
    "    # Return the special defense stat\n",
    "    return SP_Defense_Stat\n",
    "\n",
    "def Speed():\n",
    "    # Display the speed of the Pokemon selected from the generator function\n",
    "    global Speed_Stat\n",
    "    Speed_Stat = poke_data['Speed'].loc[poke_data['Name'] == Random_Pokemon.values[0]]\n",
    "    \n",
    "    # Return the speed stat\n",
    "    return Speed_Stat\n",
    "\n",
    "def Total():\n",
    "    # Display the sum of the chosen stats from the stat function\n",
    "    global Total_Stat\n",
    "    Total_Stat = [HP_Stat.values[0] + Attack_Stat.values[0] + Defense_Stat.values[0] + SP_Attack_Stat.values[0] + SP_Defense_Stat.values[0] + Speed_Stat.values[0]]\n",
    "    \n",
    "     # Return the total stat\n",
    "    return Total_Stat\n",
    "\n",
    "def Reset():\n",
    "    # Reset all stored varables\n",
    "    global Random_Pokemon, Attack_Stat, Defense_Stat, HP_Stat, SP_Attack_Stat, SP_Defense_Stat, Speed_Stat, Total_Stat\n",
    "\n",
    "    del Random_Pokemon, Attack_Stat, Defense_Stat, HP_Stat, SP_Attack_Stat, SP_Defense_Stat, Speed_Stat, Total_Stat"
   ]
  },
  {
   "cell_type": "code",
   "execution_count": 12,
   "metadata": {},
   "outputs": [
    {
     "data": {
      "text/plain": [
       "460    Mega Metagross\n",
       "Name: Name, dtype: object"
      ]
     },
     "execution_count": 12,
     "metadata": {},
     "output_type": "execute_result"
    }
   ],
   "source": [
    "Generator() # Generates random Pokemon"
   ]
  },
  {
   "cell_type": "code",
   "execution_count": 31,
   "metadata": {},
   "outputs": [
    {
     "ename": "NameError",
     "evalue": "name 'Random_Pokemon' is not defined",
     "output_type": "error",
     "traceback": [
      "\u001b[1;31m---------------------------------------------------------------------------\u001b[0m",
      "\u001b[1;31mNameError\u001b[0m                                 Traceback (most recent call last)",
      "Cell \u001b[1;32mIn[31], line 1\u001b[0m\n\u001b[1;32m----> 1\u001b[0m HP()\n",
      "Cell \u001b[1;32mIn[29], line 14\u001b[0m, in \u001b[0;36mHP\u001b[1;34m()\u001b[0m\n\u001b[0;32m     11\u001b[0m \u001b[39mdef\u001b[39;00m \u001b[39mHP\u001b[39m():\n\u001b[0;32m     12\u001b[0m     \u001b[39m# Display the HP of the Pokemon selected from the generator function\u001b[39;00m\n\u001b[0;32m     13\u001b[0m      \u001b[39mglobal\u001b[39;00m HP_Stat\n\u001b[1;32m---> 14\u001b[0m      HP_Stat \u001b[39m=\u001b[39m poke_data[\u001b[39m'\u001b[39m\u001b[39mHP\u001b[39m\u001b[39m'\u001b[39m]\u001b[39m.\u001b[39mloc[poke_data[\u001b[39m'\u001b[39m\u001b[39mName\u001b[39m\u001b[39m'\u001b[39m] \u001b[39m==\u001b[39m Random_Pokemon\u001b[39m.\u001b[39mvalues[\u001b[39m0\u001b[39m]]\n\u001b[0;32m     16\u001b[0m      \u001b[39m# Return the HP sat\u001b[39;00m\n\u001b[0;32m     17\u001b[0m      \u001b[39mreturn\u001b[39;00m HP_Stat\n",
      "\u001b[1;31mNameError\u001b[0m: name 'Random_Pokemon' is not defined"
     ]
    }
   ],
   "source": [
    "HP() # Generates the corresponding HP Stat"
   ]
  },
  {
   "cell_type": "code",
   "execution_count": 13,
   "metadata": {},
   "outputs": [
    {
     "data": {
      "text/plain": [
       "460    145\n",
       "Name: Attack, dtype: int64"
      ]
     },
     "execution_count": 13,
     "metadata": {},
     "output_type": "execute_result"
    }
   ],
   "source": [
    "Attack() # Generates the corresponding attack stat"
   ]
  },
  {
   "cell_type": "code",
   "execution_count": 15,
   "metadata": {},
   "outputs": [
    {
     "data": {
      "text/plain": [
       "460    150\n",
       "Name: Defense, dtype: int64"
      ]
     },
     "execution_count": 15,
     "metadata": {},
     "output_type": "execute_result"
    }
   ],
   "source": [
    "Defense() # Generates the corresponding defense stat"
   ]
  },
  {
   "cell_type": "code",
   "execution_count": 16,
   "metadata": {},
   "outputs": [
    {
     "data": {
      "text/plain": [
       "460    105\n",
       "Name: SP_Attack, dtype: int64"
      ]
     },
     "execution_count": 16,
     "metadata": {},
     "output_type": "execute_result"
    }
   ],
   "source": [
    "SP_Attack() # Generates the corresponding special attack stat"
   ]
  },
  {
   "cell_type": "code",
   "execution_count": 17,
   "metadata": {},
   "outputs": [
    {
     "data": {
      "text/plain": [
       "460    110\n",
       "Name: SP_Defense, dtype: int64"
      ]
     },
     "execution_count": 17,
     "metadata": {},
     "output_type": "execute_result"
    }
   ],
   "source": [
    "SP_Defense() # Generates the corresponding special defense stat"
   ]
  },
  {
   "cell_type": "code",
   "execution_count": 18,
   "metadata": {},
   "outputs": [
    {
     "data": {
      "text/plain": [
       "460    110\n",
       "Name: Speed, dtype: int64"
      ]
     },
     "execution_count": 18,
     "metadata": {},
     "output_type": "execute_result"
    }
   ],
   "source": [
    "Speed() # Generates the corresponding speed stat"
   ]
  },
  {
   "cell_type": "code",
   "execution_count": 20,
   "metadata": {},
   "outputs": [
    {
     "data": {
      "text/plain": [
       "[692]"
      ]
     },
     "execution_count": 20,
     "metadata": {},
     "output_type": "execute_result"
    }
   ],
   "source": [
    "Total() #Sums selected stats"
   ]
  },
  {
   "cell_type": "code",
   "execution_count": 30,
   "metadata": {},
   "outputs": [],
   "source": [
    "Reset() #Resets the environment and returns the initial state\n"
   ]
  },
  {
   "cell_type": "code",
   "execution_count": 10,
   "metadata": {},
   "outputs": [],
   "source": [
    "Random_Pokemon = None"
   ]
  }
 ],
 "metadata": {
  "kernelspec": {
   "display_name": "myenv",
   "language": "python",
   "name": "python3"
  },
  "language_info": {
   "codemirror_mode": {
    "name": "ipython",
    "version": 3
   },
   "file_extension": ".py",
   "mimetype": "text/x-python",
   "name": "python",
   "nbconvert_exporter": "python",
   "pygments_lexer": "ipython3",
   "version": "3.10.12"
  },
  "orig_nbformat": 4
 },
 "nbformat": 4,
 "nbformat_minor": 2
}
