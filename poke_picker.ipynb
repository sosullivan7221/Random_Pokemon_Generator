{
 "cells": [
  {
   "cell_type": "markdown",
   "metadata": {},
   "source": [
    "## Jupyter Notebook being used for easier readbility, code will be shifted into .py file to push onto website"
   ]
  },
  {
   "cell_type": "code",
   "execution_count": 3,
   "metadata": {},
   "outputs": [],
   "source": [
    "## Packages\n",
    "import pandas as pd\n",
    "import numpy as np\n"
   ]
  },
  {
   "cell_type": "code",
   "execution_count": 4,
   "metadata": {},
   "outputs": [],
   "source": [
    "## Importing Pokedex Data\n",
    "poke_data = pd.read_csv('Pokedex_Ver_SV2.csv')"
   ]
  },
  {
   "cell_type": "code",
   "execution_count": 5,
   "metadata": {},
   "outputs": [
    {
     "data": {
      "text/plain": [
       "429    Castform Rainy Form\n",
       "Name: Name, dtype: object"
      ]
     },
     "execution_count": 5,
     "metadata": {},
     "output_type": "execute_result"
    }
   ],
   "source": [
    "## Pokemon Generator Function\n",
    "\n",
    "Random_Pokemon = poke_data['Name'].sample(n=1)\n",
    "\n",
    "def Generator():\n",
    "    \n",
    "    # Return the random Pokemon\n",
    "    return Random_Pokemon\n",
    "\n",
    "def HP():\n",
    "    # Display the HP of the Pokemon selected from the generator function\n",
    "     HP_Stat = poke_data['HP'].loc[poke_data['Name'] == Generator().values[0]]\n",
    "     \n",
    "     # Return the HP sat\n",
    "     return HP_Stat\n",
    "\n",
    "def Attack():\n",
    "    # Display the attack of the Pokemon selected from the generator function\n",
    "    Attack_Stat = poke_data['Attack'].loc[poke_data['Name'] == Generator().values[0]]\n",
    "     \n",
    "    # Return the attack stat\n",
    "    return Attack_Stat\n",
    "\n",
    "def Defense():\n",
    "    # Display the defense of the Pokemon selected from the generator function\n",
    "    Defense_Stat = poke_data['Defense'].loc[poke_data['Name'] == Generator().values[0]]\n",
    "    \n",
    "    # Return the defense stat\n",
    "    return Defense_Stat\n",
    "\n",
    "def SP_Attack():\n",
    "    # Display the special attack of the Pokemon selected from the generator function\n",
    "    SP_Attack_Stat = poke_data['SP_Attack'].loc[poke_data['Name'] == Generator().values[0]]\n",
    "    \n",
    "     # Return the special attack stat\n",
    "    return SP_Attack_Stat\n",
    "\n",
    "def SP_Defense():\n",
    "    # Display the special defense of the Pokemon selected from the generator function\n",
    "    SP_Defense_Stat = poke_data['SP_Defense'].loc[poke_data['Name'] == Generator().values[0]]\n",
    "    \n",
    "    # Return the special defense stat\n",
    "    return SP_Defense_Stat\n",
    "\n",
    "def Speed():\n",
    "    # Display the speed of the Pokemon selected from the generator function\n",
    "    Speed_Stat = poke_data['Speed'].loc[poke_data['Name'] == Generator().values[0]]\n",
    "    \n",
    "    # Return the speed stat\n",
    "    return Speed_Stat\n",
    "\n",
    "Generator() # Generates a random pokemon"
   ]
  },
  {
   "cell_type": "code",
   "execution_count": 6,
   "metadata": {},
   "outputs": [
    {
     "data": {
      "text/plain": [
       "429    70\n",
       "Name: HP, dtype: int64"
      ]
     },
     "execution_count": 6,
     "metadata": {},
     "output_type": "execute_result"
    }
   ],
   "source": [
    "HP() # Generates the corresponding HP Stat"
   ]
  },
  {
   "cell_type": "code",
   "execution_count": 7,
   "metadata": {},
   "outputs": [
    {
     "data": {
      "text/plain": [
       "429    70\n",
       "Name: Attack, dtype: int64"
      ]
     },
     "execution_count": 7,
     "metadata": {},
     "output_type": "execute_result"
    }
   ],
   "source": [
    "Attack() # Generates the corresponding attack stat"
   ]
  },
  {
   "cell_type": "code",
   "execution_count": 8,
   "metadata": {},
   "outputs": [
    {
     "data": {
      "text/plain": [
       "429    70\n",
       "Name: Defense, dtype: int64"
      ]
     },
     "execution_count": 8,
     "metadata": {},
     "output_type": "execute_result"
    }
   ],
   "source": [
    "Defense() # Generates the corresponding defense stat"
   ]
  },
  {
   "cell_type": "code",
   "execution_count": 9,
   "metadata": {},
   "outputs": [
    {
     "data": {
      "text/plain": [
       "429    70\n",
       "Name: SP_Attack, dtype: int64"
      ]
     },
     "execution_count": 9,
     "metadata": {},
     "output_type": "execute_result"
    }
   ],
   "source": [
    "SP_Attack() # Generates the corresponding special attack stat"
   ]
  },
  {
   "cell_type": "code",
   "execution_count": 10,
   "metadata": {},
   "outputs": [
    {
     "data": {
      "text/plain": [
       "429    70\n",
       "Name: Speed, dtype: int64"
      ]
     },
     "execution_count": 10,
     "metadata": {},
     "output_type": "execute_result"
    }
   ],
   "source": [
    "Speed() # Generates the corresponding speed stat"
   ]
  }
 ],
 "metadata": {
  "kernelspec": {
   "display_name": "myenv",
   "language": "python",
   "name": "python3"
  },
  "language_info": {
   "codemirror_mode": {
    "name": "ipython",
    "version": 3
   },
   "file_extension": ".py",
   "mimetype": "text/x-python",
   "name": "python",
   "nbconvert_exporter": "python",
   "pygments_lexer": "ipython3",
   "version": "3.10.12"
  },
  "orig_nbformat": 4
 },
 "nbformat": 4,
 "nbformat_minor": 2
}
